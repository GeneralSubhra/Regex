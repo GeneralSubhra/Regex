{
 "cells": [
  {
   "cell_type": "code",
   "execution_count": 1,
   "id": "f2f4d9e6",
   "metadata": {},
   "outputs": [],
   "source": [
    "import re"
   ]
  },
  {
   "cell_type": "code",
   "execution_count": 7,
   "id": "d29add5e",
   "metadata": {},
   "outputs": [],
   "source": [
    "chat1 = \"Subhranil:you are crazy dude 1234567890,abc@gmail.com\"\n",
    "chat2 = \"Subhranil:here it is: (123)-456-7890,abc@gmail.com\"\n",
    "chat3 = \"Subhranil:yes phone:1234567890 email:abc@gmail.com\""
   ]
  },
  {
   "cell_type": "code",
   "execution_count": 12,
   "id": "62afd715",
   "metadata": {},
   "outputs": [
    {
     "name": "stdout",
     "output_type": "stream",
     "text": [
      "['(123)-456-7890'] ['abc@gmail.com']\n"
     ]
    }
   ],
   "source": [
    "pattern1 = '\\d{10}|\\(\\d{3}\\)-\\d{3}-\\d{4}'\n",
    "pattern2 = '[a-z0-9A-Z]*@[a-z0-9A-Z]*\\.[a-z0-9A-Z]*'\n",
    "matches1 = re.findall(pattern1,chat2)\n",
    "matches2 = re.findall(pattern2,chat2)\n",
    "print(matches1,matches2)"
   ]
  },
  {
   "cell_type": "code",
   "execution_count": 38,
   "id": "893faa21",
   "metadata": {
    "scrolled": false
   },
   "outputs": [
    {
     "name": "stdout",
     "output_type": "stream",
     "text": [
      "Enter the message: My first experience with LeetCode was very challenging and frustrating. I never thought to encounter difficulties when solving coding problems for the first time in this platform. Now, I feel like connecting myself with the cosmos by practising escapism. If you’re a pro in the field of escapism please connect me through 1233974033 and my email: sahasinchita@gmail.com \n",
      "\n",
      "Phone number is 1233974033\n",
      "email is sahasinchita@gmail.com\n"
     ]
    }
   ],
   "source": [
    "\n",
    "prompt = input(\"Enter the message: \")\n",
    "match1 = re.findall(pattern1,prompt)\n",
    "match2 = re.findall(pattern2,prompt)\n",
    "print(\"\\nPhone number is\", match1[0])\n",
    "print(\"email is\", match2[0])"
   ]
  },
  {
   "cell_type": "code",
   "execution_count": 39,
   "id": "f9509107",
   "metadata": {},
   "outputs": [
    {
     "name": "stdout",
     "output_type": "stream",
     "text": [
      "Enter the message: my student ID is 2010050013\n",
      "\n",
      "Student ID :  2010050013\n"
     ]
    }
   ],
   "source": [
    "details = input(\"Enter the message: \")\n",
    "pattern3 = 'ID[^\\d]*(\\d*)'\n",
    "match3 = re.findall(pattern3,details)\n",
    "print(\"\\nStudent ID : \",match3[0])"
   ]
  },
  {
   "cell_type": "code",
   "execution_count": null,
   "id": "0ae27a46",
   "metadata": {},
   "outputs": [],
   "source": []
  }
 ],
 "metadata": {
  "kernelspec": {
   "display_name": "Python 3 (ipykernel)",
   "language": "python",
   "name": "python3"
  },
  "language_info": {
   "codemirror_mode": {
    "name": "ipython",
    "version": 3
   },
   "file_extension": ".py",
   "mimetype": "text/x-python",
   "name": "python",
   "nbconvert_exporter": "python",
   "pygments_lexer": "ipython3",
   "version": "3.11.5"
  }
 },
 "nbformat": 4,
 "nbformat_minor": 5
}
